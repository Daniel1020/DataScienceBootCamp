{
  "nbformat": 4,
  "nbformat_minor": 0,
  "metadata": {
    "colab": {
      "name": "Case Study2.ipynb",
      "provenance": [],
      "collapsed_sections": []
    },
    "kernelspec": {
      "name": "python3",
      "display_name": "Python 3"
    }
  },
  "cells": [
    {
      "cell_type": "code",
      "metadata": {
        "id": "UIqn9AM9MtXM",
        "colab_type": "code",
        "colab": {}
      },
      "source": [
        "import numpy as np\n",
        "import pandas as pd\n",
        "import seaborn as sns\n",
        "import matplotlib.pyplot as plt"
      ],
      "execution_count": 0,
      "outputs": []
    },
    {
      "cell_type": "code",
      "metadata": {
        "id": "LrrA1XrCMzAY",
        "colab_type": "code",
        "outputId": "89d06145-c9f4-4086-9694-7cac67e64a05",
        "colab": {
          "resources": {
            "http://localhost:8080/nbextensions/google.colab/files.js": {
              "data": "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",
              "ok": true,
              "headers": [
                [
                  "content-type",
                  "application/javascript"
                ]
              ],
              "status": 200,
              "status_text": ""
            }
          },
          "base_uri": "https://localhost:8080/",
          "height": 139
        }
      },
      "source": [
        "from google.colab import files\n",
        "uploaded = files.upload()"
      ],
      "execution_count": 2,
      "outputs": [
        {
          "output_type": "display_data",
          "data": {
            "text/html": [
              "\n",
              "     <input type=\"file\" id=\"files-6ebfc954-6f3a-4143-b1f0-123d7c5e7e18\" name=\"files[]\" multiple disabled />\n",
              "     <output id=\"result-6ebfc954-6f3a-4143-b1f0-123d7c5e7e18\">\n",
              "      Upload widget is only available when the cell has been executed in the\n",
              "      current browser session. Please rerun this cell to enable.\n",
              "      </output>\n",
              "      <script src=\"/nbextensions/google.colab/files.js\"></script> "
            ],
            "text/plain": [
              "<IPython.core.display.HTML object>"
            ]
          },
          "metadata": {
            "tags": []
          }
        },
        {
          "output_type": "stream",
          "text": [
            "Saving driver_ids.csv to driver_ids.csv\n",
            "Saving ride_ids.csv to ride_ids.csv\n",
            "Saving ride_timestamps.csv to ride_timestamps.csv\n"
          ],
          "name": "stdout"
        }
      ]
    },
    {
      "cell_type": "code",
      "metadata": {
        "id": "YJQY5rzSXa4Y",
        "colab_type": "code",
        "colab": {}
      },
      "source": [
        ""
      ],
      "execution_count": 0,
      "outputs": []
    },
    {
      "cell_type": "markdown",
      "metadata": {
        "id": "sWdAjq2rXbiP",
        "colab_type": "text"
      },
      "source": [
        "# **Loading Data**"
      ]
    },
    {
      "cell_type": "code",
      "metadata": {
        "id": "4F1VnNf6NFWC",
        "colab_type": "code",
        "colab": {}
      },
      "source": [
        "drivers = pd.read_csv('driver_ids.csv',parse_dates= [1])\n",
        "ride_ids = pd.read_csv('ride_ids.csv')\n",
        "ride_time = pd.read_csv('ride_timestamps.csv',parse_dates=[1])"
      ],
      "execution_count": 0,
      "outputs": []
    },
    {
      "cell_type": "code",
      "metadata": {
        "id": "adPJH6V_Rpvu",
        "colab_type": "code",
        "outputId": "b687b126-480f-40f0-d261-a594ad3b60d9",
        "colab": {
          "base_uri": "https://localhost:8080/",
          "height": 476
        }
      },
      "source": [
        "# quick review on the structure of tables\n",
        "for df in [drivers,ride_ids,ride_time]:\n",
        "    print(df.info())"
      ],
      "execution_count": 4,
      "outputs": [
        {
          "output_type": "stream",
          "text": [
            "<class 'pandas.core.frame.DataFrame'>\n",
            "RangeIndex: 937 entries, 0 to 936\n",
            "Data columns (total 2 columns):\n",
            "driver_id              937 non-null object\n",
            "driver_onboard_date    937 non-null datetime64[ns]\n",
            "dtypes: datetime64[ns](1), object(1)\n",
            "memory usage: 14.8+ KB\n",
            "None\n",
            "<class 'pandas.core.frame.DataFrame'>\n",
            "RangeIndex: 193502 entries, 0 to 193501\n",
            "Data columns (total 5 columns):\n",
            "driver_id          193502 non-null object\n",
            "ride_id            193502 non-null object\n",
            "ride_distance      193502 non-null int64\n",
            "ride_duration      193502 non-null int64\n",
            "ride_prime_time    193502 non-null int64\n",
            "dtypes: int64(3), object(2)\n",
            "memory usage: 7.4+ MB\n",
            "None\n",
            "<class 'pandas.core.frame.DataFrame'>\n",
            "RangeIndex: 194081 entries, 0 to 194080\n",
            "Data columns (total 2 columns):\n",
            "ride_id              194081 non-null object\n",
            "ride_picked_up_at    194081 non-null datetime64[ns]\n",
            "dtypes: datetime64[ns](1), object(1)\n",
            "memory usage: 3.0+ MB\n",
            "None\n"
          ],
          "name": "stdout"
        }
      ]
    },
    {
      "cell_type": "code",
      "metadata": {
        "id": "85Hp-rWubgUL",
        "colab_type": "code",
        "outputId": "9275a7d0-1422-44a2-a6ab-7ad65d156fc8",
        "colab": {
          "base_uri": "https://localhost:8080/",
          "height": 408
        }
      },
      "source": [
        "for df in [drivers,ride_ids,ride_time]:\n",
        "    print(df.describe())"
      ],
      "execution_count": 5,
      "outputs": [
        {
          "output_type": "stream",
          "text": [
            "                               driver_id  driver_onboard_date\n",
            "count                                937                  937\n",
            "unique                               937                   49\n",
            "top     be22fe5992cb9557d7748113ea1f6057  2016-04-05 00:00:00\n",
            "freq                                   1                   36\n",
            "first                                NaN  2016-03-28 00:00:00\n",
            "last                                 NaN  2016-05-15 00:00:00\n",
            "       ride_distance  ride_duration  ride_prime_time\n",
            "count  193502.000000  193502.000000    193502.000000\n",
            "mean     6955.218266     858.966099        17.305893\n",
            "std      8929.444606     571.375818        30.825800\n",
            "min        -2.000000       2.000000         0.000000\n",
            "25%      2459.000000     491.000000         0.000000\n",
            "50%      4015.000000     727.000000         0.000000\n",
            "75%      7193.000000    1069.000000        25.000000\n",
            "max    724679.000000   28204.000000       500.000000\n",
            "                                 ride_id    ride_picked_up_at\n",
            "count                             194081               194081\n",
            "unique                            194081               190524\n",
            "top     bf881f7bc0444152b82267fb6d11fe8b  2016-06-03 21:24:04\n",
            "freq                                   1                    4\n",
            "first                                NaN  2016-03-28 06:02:39\n",
            "last                                 NaN  2016-06-27 00:02:06\n"
          ],
          "name": "stdout"
        }
      ]
    },
    {
      "cell_type": "markdown",
      "metadata": {
        "id": "ZVbGDZAOoKWZ",
        "colab_type": "text"
      },
      "source": [
        "*This information tells us a fixed time period was given between 03-28-2016 and 06-27-2016 when we do the following anlysis*"
      ]
    },
    {
      "cell_type": "markdown",
      "metadata": {
        "id": "kxhmEtQ9Xk2u",
        "colab_type": "text"
      },
      "source": [
        "# **Data Sanity Check**"
      ]
    },
    {
      "cell_type": "code",
      "metadata": {
        "id": "tsuwvi_QS3ME",
        "colab_type": "code",
        "outputId": "9a8d0083-2cfd-452b-9803-67038105feed",
        "colab": {
          "base_uri": "https://localhost:8080/",
          "height": 34
        }
      },
      "source": [
        "## To see if there're duplicated driver_id or ride_id\n",
        "drivers.driver_id.nunique() == drivers.shape[0]\n",
        "ride_time.ride_id.nunique() == ride_time.shape[0]"
      ],
      "execution_count": 6,
      "outputs": [
        {
          "output_type": "execute_result",
          "data": {
            "text/plain": [
              "True"
            ]
          },
          "metadata": {
            "tags": []
          },
          "execution_count": 6
        }
      ]
    },
    {
      "cell_type": "code",
      "metadata": {
        "id": "rqdlv3OtZo4i",
        "colab_type": "code",
        "outputId": "12bb5736-5931-4865-d9b3-bbb84b41fd5c",
        "colab": {
          "base_uri": "https://localhost:8080/",
          "height": 34
        }
      },
      "source": [
        "## To see how much proportion of drivers have the recorded riding information\n",
        "print( ride_ids.driver_id.nunique()/len(drivers) *100 )"
      ],
      "execution_count": 7,
      "outputs": [
        {
          "output_type": "stream",
          "text": [
            "100.0\n"
          ],
          "name": "stdout"
        }
      ]
    },
    {
      "cell_type": "code",
      "metadata": {
        "id": "lAiE2Hfq13IT",
        "colab_type": "code",
        "outputId": "7e2d6182-20dd-4720-c0f7-e37eeb883232",
        "colab": {
          "base_uri": "https://localhost:8080/",
          "height": 34
        }
      },
      "source": [
        "## average rides per driver\n",
        "print(len(ride_ids)/ride_ids.driver_id.nunique() )"
      ],
      "execution_count": 8,
      "outputs": [
        {
          "output_type": "stream",
          "text": [
            "206.51227321237994\n"
          ],
          "name": "stdout"
        }
      ]
    },
    {
      "cell_type": "markdown",
      "metadata": {
        "id": "AtRakINCetlb",
        "colab_type": "text"
      },
      "source": [
        "# **Data Analysis**\n",
        "## **Define Driver Churn Rate**"
      ]
    },
    {
      "cell_type": "code",
      "metadata": {
        "id": "buD0_kEFesuK",
        "colab_type": "code",
        "colab": {}
      },
      "source": [
        "## Merger three tables together\n",
        "driver_ride = pd.merge(pd.merge(ride_ids,drivers,on= 'driver_id'),ride_time,on= 'ride_id')"
      ],
      "execution_count": 0,
      "outputs": []
    },
    {
      "cell_type": "code",
      "metadata": {
        "id": "Isa4O1GgertM",
        "colab_type": "code",
        "outputId": "782848db-5cda-4fad-d33c-fed0d361f650",
        "colab": {
          "base_uri": "https://localhost:8080/",
          "height": 224
        }
      },
      "source": [
        "driver_ride.head()"
      ],
      "execution_count": 10,
      "outputs": [
        {
          "output_type": "execute_result",
          "data": {
            "text/html": [
              "<div>\n",
              "<style scoped>\n",
              "    .dataframe tbody tr th:only-of-type {\n",
              "        vertical-align: middle;\n",
              "    }\n",
              "\n",
              "    .dataframe tbody tr th {\n",
              "        vertical-align: top;\n",
              "    }\n",
              "\n",
              "    .dataframe thead th {\n",
              "        text-align: right;\n",
              "    }\n",
              "</style>\n",
              "<table border=\"1\" class=\"dataframe\">\n",
              "  <thead>\n",
              "    <tr style=\"text-align: right;\">\n",
              "      <th></th>\n",
              "      <th>driver_id</th>\n",
              "      <th>ride_id</th>\n",
              "      <th>ride_distance</th>\n",
              "      <th>ride_duration</th>\n",
              "      <th>ride_prime_time</th>\n",
              "      <th>driver_onboard_date</th>\n",
              "      <th>ride_picked_up_at</th>\n",
              "    </tr>\n",
              "  </thead>\n",
              "  <tbody>\n",
              "    <tr>\n",
              "      <th>0</th>\n",
              "      <td>002be0ffdc997bd5c50703158b7c2491</td>\n",
              "      <td>006d61cf7446e682f7bc50b0f8a5bea5</td>\n",
              "      <td>1811</td>\n",
              "      <td>327</td>\n",
              "      <td>50</td>\n",
              "      <td>2016-03-29</td>\n",
              "      <td>2016-04-23 02:16:40</td>\n",
              "    </tr>\n",
              "    <tr>\n",
              "      <th>1</th>\n",
              "      <td>002be0ffdc997bd5c50703158b7c2491</td>\n",
              "      <td>01b522c5c3a756fbdb12e95e87507eda</td>\n",
              "      <td>3362</td>\n",
              "      <td>809</td>\n",
              "      <td>0</td>\n",
              "      <td>2016-03-29</td>\n",
              "      <td>2016-03-29 19:04:01</td>\n",
              "    </tr>\n",
              "    <tr>\n",
              "      <th>2</th>\n",
              "      <td>002be0ffdc997bd5c50703158b7c2491</td>\n",
              "      <td>029227c4c2971ce69ff2274dc798ef43</td>\n",
              "      <td>3282</td>\n",
              "      <td>572</td>\n",
              "      <td>0</td>\n",
              "      <td>2016-03-29</td>\n",
              "      <td>2016-06-21 12:01:35</td>\n",
              "    </tr>\n",
              "    <tr>\n",
              "      <th>3</th>\n",
              "      <td>002be0ffdc997bd5c50703158b7c2491</td>\n",
              "      <td>034e861343a63ac3c18a9ceb1ce0ac69</td>\n",
              "      <td>65283</td>\n",
              "      <td>3338</td>\n",
              "      <td>25</td>\n",
              "      <td>2016-03-29</td>\n",
              "      <td>2016-05-19 09:18:20</td>\n",
              "    </tr>\n",
              "    <tr>\n",
              "      <th>4</th>\n",
              "      <td>002be0ffdc997bd5c50703158b7c2491</td>\n",
              "      <td>034f2e614a2f9fc7f1c2f77647d1b981</td>\n",
              "      <td>4115</td>\n",
              "      <td>823</td>\n",
              "      <td>100</td>\n",
              "      <td>2016-03-29</td>\n",
              "      <td>2016-04-20 22:07:02</td>\n",
              "    </tr>\n",
              "  </tbody>\n",
              "</table>\n",
              "</div>"
            ],
            "text/plain": [
              "                          driver_id  ...   ride_picked_up_at\n",
              "0  002be0ffdc997bd5c50703158b7c2491  ... 2016-04-23 02:16:40\n",
              "1  002be0ffdc997bd5c50703158b7c2491  ... 2016-03-29 19:04:01\n",
              "2  002be0ffdc997bd5c50703158b7c2491  ... 2016-06-21 12:01:35\n",
              "3  002be0ffdc997bd5c50703158b7c2491  ... 2016-05-19 09:18:20\n",
              "4  002be0ffdc997bd5c50703158b7c2491  ... 2016-04-20 22:07:02\n",
              "\n",
              "[5 rows x 7 columns]"
            ]
          },
          "metadata": {
            "tags": []
          },
          "execution_count": 10
        }
      ]
    },
    {
      "cell_type": "code",
      "metadata": {
        "id": "pMehXxxwa4Hn",
        "colab_type": "code",
        "outputId": "454e8eef-305e-41ce-99bc-46ab5e4cb24e",
        "colab": {
          "base_uri": "https://localhost:8080/",
          "height": 221
        }
      },
      "source": [
        "## To see how many drivers disappeared after their first time onboard riding \n",
        " display(driver_ride['driver_id'].value_counts())"
      ],
      "execution_count": 0,
      "outputs": [
        {
          "output_type": "display_data",
          "data": {
            "text/plain": [
              "5ccc0e6dc9c7475caf785cdce7b8eb7a    919\n",
              "4eb382d1f7d50fae1294964263d1ce82    831\n",
              "844e9be5a30d8d9c1f8e9ddb086ff717    821\n",
              "689bdf87fb2de49f98bf4946cfaa5068    794\n",
              "3788dc9e91f1548816ce8b5af07ddadc    783\n",
              "                                   ... \n",
              "fd831ca1d79ae5c6fc3a679a22e5b8cf     19\n",
              "d31eded9263eab43f614eecc6a52a0f5     19\n",
              "6df6c8f8d3c2a93314245a604c02bed1     16\n",
              "7b625f643d0775f0ac4898e33235377b      3\n",
              "7ff85c5c0e9324e28d1e0d0589c364bd      3\n",
              "Name: driver_id, Length: 837, dtype: int64"
            ]
          },
          "metadata": {
            "tags": []
          }
        }
      ]
    },
    {
      "cell_type": "markdown",
      "metadata": {
        "id": "HKVIalEXkm5_",
        "colab_type": "text"
      },
      "source": [
        "*From the above information, we can see that the least number ride for a drver is 3, which means that no drver was churned in the given time period between 2016-03-28 and 2016-06-27 given defination of churned drivers. It leads to no benefit for the business study, therefore, we need to redefine a churned driver as the one has less than 10 ridings within one month interval which will be justified below and apply into future research on the impact to the business.*"
      ]
    },
    {
      "cell_type": "code",
      "metadata": {
        "id": "VBs4kk4KjXKw",
        "colab_type": "code",
        "colab": {}
      },
      "source": [
        "## add pick_up month variable and to see how many drivers tends to be churned \n",
        "driver_ride['ride_month'] = driver_ride['ride_picked_up_at'].apply(lambda x : x.month)\n"
      ],
      "execution_count": 0,
      "outputs": []
    },
    {
      "cell_type": "code",
      "metadata": {
        "id": "oczhaZCy1Prn",
        "colab_type": "code",
        "colab": {}
      },
      "source": [
        "ride_by_month = driver_ride.groupby('driver_id')['ride_month'].value_counts().unstack().fillna(0)"
      ],
      "execution_count": 0,
      "outputs": []
    },
    {
      "cell_type": "code",
      "metadata": {
        "id": "aSkhheAY7XKi",
        "colab_type": "code",
        "colab": {
          "base_uri": "https://localhost:8080/",
          "height": 170
        },
        "outputId": "7bd36ec9-a57d-4953-a66c-3948789c01ed"
      },
      "source": [
        "ride_by_month.info()"
      ],
      "execution_count": 19,
      "outputs": [
        {
          "output_type": "stream",
          "text": [
            "<class 'pandas.core.frame.DataFrame'>\n",
            "Index: 837 entries, 002be0ffdc997bd5c50703158b7c2491 to ffff51a71f2f185ec5e97d59dbcd7a78\n",
            "Data columns (total 4 columns):\n",
            "3    837 non-null float64\n",
            "4    837 non-null float64\n",
            "5    837 non-null float64\n",
            "6    837 non-null float64\n",
            "dtypes: float64(4)\n",
            "memory usage: 32.7+ KB\n"
          ],
          "name": "stdout"
        }
      ]
    },
    {
      "cell_type": "code",
      "metadata": {
        "id": "7DfbGnP88-Qe",
        "colab_type": "code",
        "colab": {}
      },
      "source": [
        "## Learn the distribution of month where drivers firstly onboard date\n",
        "## driver_ride['driver_onboard_date'].unique()"
      ],
      "execution_count": 0,
      "outputs": []
    },
    {
      "cell_type": "code",
      "metadata": {
        "id": "5eyedOax7G5Q",
        "colab_type": "code",
        "colab": {}
      },
      "source": [
        "driver_churned= ride_by_month.loc[(ride_by_month[4]<ride_by_month[3]) |\n",
        "                  (ride_by_month[5]<ride_by_month[3]) | \n",
        "                  (ride_by_month[6]<ride_by_month[3]) ]"
      ],
      "execution_count": 0,
      "outputs": []
    },
    {
      "cell_type": "code",
      "metadata": {
        "id": "mLz6nmoyE6Dn",
        "colab_type": "code",
        "colab": {
          "base_uri": "https://localhost:8080/",
          "height": 235
        },
        "outputId": "6ac4e767-6397-4ec6-c72c-e33abbe8feb9"
      },
      "source": [
        "driver_churned.head()"
      ],
      "execution_count": 39,
      "outputs": [
        {
          "output_type": "execute_result",
          "data": {
            "text/html": [
              "<div>\n",
              "<style scoped>\n",
              "    .dataframe tbody tr th:only-of-type {\n",
              "        vertical-align: middle;\n",
              "    }\n",
              "\n",
              "    .dataframe tbody tr th {\n",
              "        vertical-align: top;\n",
              "    }\n",
              "\n",
              "    .dataframe thead th {\n",
              "        text-align: right;\n",
              "    }\n",
              "</style>\n",
              "<table border=\"1\" class=\"dataframe\">\n",
              "  <thead>\n",
              "    <tr style=\"text-align: right;\">\n",
              "      <th>ride_month</th>\n",
              "      <th>3</th>\n",
              "      <th>4</th>\n",
              "      <th>5</th>\n",
              "      <th>6</th>\n",
              "    </tr>\n",
              "    <tr>\n",
              "      <th>driver_id</th>\n",
              "      <th></th>\n",
              "      <th></th>\n",
              "      <th></th>\n",
              "      <th></th>\n",
              "    </tr>\n",
              "  </thead>\n",
              "  <tbody>\n",
              "    <tr>\n",
              "      <th>02e440f6c209206375833cef02e0cbae</th>\n",
              "      <td>2.0</td>\n",
              "      <td>45.0</td>\n",
              "      <td>9.0</td>\n",
              "      <td>0.0</td>\n",
              "    </tr>\n",
              "    <tr>\n",
              "      <th>0938ed763cb3129ae63607aaf69daff5</th>\n",
              "      <td>9.0</td>\n",
              "      <td>16.0</td>\n",
              "      <td>9.0</td>\n",
              "      <td>4.0</td>\n",
              "    </tr>\n",
              "    <tr>\n",
              "      <th>0eff1404b137a5562642f0f706e59f25</th>\n",
              "      <td>3.0</td>\n",
              "      <td>42.0</td>\n",
              "      <td>0.0</td>\n",
              "      <td>0.0</td>\n",
              "    </tr>\n",
              "    <tr>\n",
              "      <th>1110d496149d3d8c50276765924df831</th>\n",
              "      <td>2.0</td>\n",
              "      <td>26.0</td>\n",
              "      <td>0.0</td>\n",
              "      <td>0.0</td>\n",
              "    </tr>\n",
              "    <tr>\n",
              "      <th>173a168d2b8830525f59be85a35f0000</th>\n",
              "      <td>34.0</td>\n",
              "      <td>4.0</td>\n",
              "      <td>0.0</td>\n",
              "      <td>0.0</td>\n",
              "    </tr>\n",
              "  </tbody>\n",
              "</table>\n",
              "</div>"
            ],
            "text/plain": [
              "ride_month                           3     4    5    6\n",
              "driver_id                                             \n",
              "02e440f6c209206375833cef02e0cbae   2.0  45.0  9.0  0.0\n",
              "0938ed763cb3129ae63607aaf69daff5   9.0  16.0  9.0  4.0\n",
              "0eff1404b137a5562642f0f706e59f25   3.0  42.0  0.0  0.0\n",
              "1110d496149d3d8c50276765924df831   2.0  26.0  0.0  0.0\n",
              "173a168d2b8830525f59be85a35f0000  34.0   4.0  0.0  0.0"
            ]
          },
          "metadata": {
            "tags": []
          },
          "execution_count": 39
        }
      ]
    },
    {
      "cell_type": "code",
      "metadata": {
        "id": "tlunt1-p89qf",
        "colab_type": "code",
        "colab": {}
      },
      "source": [
        "## Mark if a driver is churned or not \n",
        "driver_ride['churned'] = driver_ride.driver_id.apply(lambda x: 1 if x in driver_churned.index else 0)"
      ],
      "execution_count": 0,
      "outputs": []
    },
    {
      "cell_type": "code",
      "metadata": {
        "id": "ru91wdlQETI9",
        "colab_type": "code",
        "colab": {
          "base_uri": "https://localhost:8080/",
          "height": 224
        },
        "outputId": "fdd715e6-27ad-40b9-d36d-911f9b6f16f8"
      },
      "source": [
        "driver_ride.head()"
      ],
      "execution_count": 41,
      "outputs": [
        {
          "output_type": "execute_result",
          "data": {
            "text/html": [
              "<div>\n",
              "<style scoped>\n",
              "    .dataframe tbody tr th:only-of-type {\n",
              "        vertical-align: middle;\n",
              "    }\n",
              "\n",
              "    .dataframe tbody tr th {\n",
              "        vertical-align: top;\n",
              "    }\n",
              "\n",
              "    .dataframe thead th {\n",
              "        text-align: right;\n",
              "    }\n",
              "</style>\n",
              "<table border=\"1\" class=\"dataframe\">\n",
              "  <thead>\n",
              "    <tr style=\"text-align: right;\">\n",
              "      <th></th>\n",
              "      <th>driver_id</th>\n",
              "      <th>ride_id</th>\n",
              "      <th>ride_distance</th>\n",
              "      <th>ride_duration</th>\n",
              "      <th>ride_prime_time</th>\n",
              "      <th>driver_onboard_date</th>\n",
              "      <th>ride_picked_up_at</th>\n",
              "      <th>ride_month</th>\n",
              "      <th>churned</th>\n",
              "    </tr>\n",
              "  </thead>\n",
              "  <tbody>\n",
              "    <tr>\n",
              "      <th>0</th>\n",
              "      <td>002be0ffdc997bd5c50703158b7c2491</td>\n",
              "      <td>006d61cf7446e682f7bc50b0f8a5bea5</td>\n",
              "      <td>1811</td>\n",
              "      <td>327</td>\n",
              "      <td>50</td>\n",
              "      <td>2016-03-29</td>\n",
              "      <td>2016-04-23 02:16:40</td>\n",
              "      <td>4</td>\n",
              "      <td>0</td>\n",
              "    </tr>\n",
              "    <tr>\n",
              "      <th>1</th>\n",
              "      <td>002be0ffdc997bd5c50703158b7c2491</td>\n",
              "      <td>01b522c5c3a756fbdb12e95e87507eda</td>\n",
              "      <td>3362</td>\n",
              "      <td>809</td>\n",
              "      <td>0</td>\n",
              "      <td>2016-03-29</td>\n",
              "      <td>2016-03-29 19:04:01</td>\n",
              "      <td>3</td>\n",
              "      <td>0</td>\n",
              "    </tr>\n",
              "    <tr>\n",
              "      <th>2</th>\n",
              "      <td>002be0ffdc997bd5c50703158b7c2491</td>\n",
              "      <td>029227c4c2971ce69ff2274dc798ef43</td>\n",
              "      <td>3282</td>\n",
              "      <td>572</td>\n",
              "      <td>0</td>\n",
              "      <td>2016-03-29</td>\n",
              "      <td>2016-06-21 12:01:35</td>\n",
              "      <td>6</td>\n",
              "      <td>0</td>\n",
              "    </tr>\n",
              "    <tr>\n",
              "      <th>3</th>\n",
              "      <td>002be0ffdc997bd5c50703158b7c2491</td>\n",
              "      <td>034e861343a63ac3c18a9ceb1ce0ac69</td>\n",
              "      <td>65283</td>\n",
              "      <td>3338</td>\n",
              "      <td>25</td>\n",
              "      <td>2016-03-29</td>\n",
              "      <td>2016-05-19 09:18:20</td>\n",
              "      <td>5</td>\n",
              "      <td>0</td>\n",
              "    </tr>\n",
              "    <tr>\n",
              "      <th>4</th>\n",
              "      <td>002be0ffdc997bd5c50703158b7c2491</td>\n",
              "      <td>034f2e614a2f9fc7f1c2f77647d1b981</td>\n",
              "      <td>4115</td>\n",
              "      <td>823</td>\n",
              "      <td>100</td>\n",
              "      <td>2016-03-29</td>\n",
              "      <td>2016-04-20 22:07:02</td>\n",
              "      <td>4</td>\n",
              "      <td>0</td>\n",
              "    </tr>\n",
              "  </tbody>\n",
              "</table>\n",
              "</div>"
            ],
            "text/plain": [
              "                          driver_id  ... churned\n",
              "0  002be0ffdc997bd5c50703158b7c2491  ...       0\n",
              "1  002be0ffdc997bd5c50703158b7c2491  ...       0\n",
              "2  002be0ffdc997bd5c50703158b7c2491  ...       0\n",
              "3  002be0ffdc997bd5c50703158b7c2491  ...       0\n",
              "4  002be0ffdc997bd5c50703158b7c2491  ...       0\n",
              "\n",
              "[5 rows x 9 columns]"
            ]
          },
          "metadata": {
            "tags": []
          },
          "execution_count": 41
        }
      ]
    },
    {
      "cell_type": "code",
      "metadata": {
        "id": "4g4AI9xbHfBA",
        "colab_type": "code",
        "colab": {
          "base_uri": "https://localhost:8080/",
          "height": 85
        },
        "outputId": "7a38efe0-a961-4c4c-edd8-b9f46a4be8b7"
      },
      "source": [
        "driver_ride.groupby('churned')['driver_id'].nunique()"
      ],
      "execution_count": 49,
      "outputs": [
        {
          "output_type": "execute_result",
          "data": {
            "text/plain": [
              "churned\n",
              "0    797\n",
              "1     40\n",
              "Name: driver_id, dtype: int64"
            ]
          },
          "metadata": {
            "tags": []
          },
          "execution_count": 49
        }
      ]
    },
    {
      "cell_type": "markdown",
      "metadata": {
        "id": "G1L4RcxMFYAN",
        "colab_type": "text"
      },
      "source": [
        "Summary: Finally we consider these drivers who have continuously decreasing ride as churned one marked with 1 for analysis.\n",
        "The churn rate in the three-month interval is around 5% which is reasonable according to the survey showing that the average monthly churn rate for the industry is 12%. "
      ]
    },
    {
      "cell_type": "markdown",
      "metadata": {
        "id": "06jnszEEF1ck",
        "colab_type": "text"
      },
      "source": [
        "## **Assessment on Business Impact**"
      ]
    },
    {
      "cell_type": "code",
      "metadata": {
        "id": "qQaGwhZ6FEJ8",
        "colab_type": "code",
        "colab": {
          "base_uri": "https://localhost:8080/",
          "height": 329
        },
        "outputId": "1418e8b3-cdbf-4a03-e657-a7035d37134a"
      },
      "source": [
        "ax = driver_ride.groupby(['churned','ride_month']).size().plot(kind=\"bar\")\n",
        "ax.set_title(\"# of trasactions per month\")\n",
        "ax.set_xlabel(\"(month,isChurned)\")\n",
        "ax.set_ylabel(\"Count of transaction\")"
      ],
      "execution_count": 44,
      "outputs": [
        {
          "output_type": "execute_result",
          "data": {
            "text/plain": [
              "Text(0, 0.5, 'Count of transaction')"
            ]
          },
          "metadata": {
            "tags": []
          },
          "execution_count": 44
        },
        {
          "output_type": "display_data",
          "data": {
            "image/png": "[encoded data removed]",
            "text/plain": [
              "<Figure size 432x288 with 1 Axes>"
            ]
          },
          "metadata": {
            "tags": []
          }
        }
      ]
    },
    {
      "cell_type": "code",
      "metadata": {
        "id": "sIzR1t8SMd62",
        "colab_type": "code",
        "colab": {
          "base_uri": "https://localhost:8080/",
          "height": 102
        },
        "outputId": "279b7edd-61b1-4c91-f566-3633ffc655d7"
      },
      "source": [
        "display (driver_ride.groupby(['churned'])['ride_distance'].agg('sum'))\n",
        "distance_churned = driver_ride[driver_ride['churned']==1]['ride_distance'].agg('sum')\n",
        "avg_distance_by_driver = driver_ride['ride_distance'].sum()/driver_ride['driver_id'].nunique()\n",
        "\n",
        "print (\"# of new drivers to cover these distance :\", round(distance_churned/avg_distance_by_driver,0))"
      ],
      "execution_count": 71,
      "outputs": [
        {
          "output_type": "display_data",
          "data": {
            "text/plain": [
              "churned\n",
              "0    1258978643\n",
              "1      20389159\n",
              "Name: ride_distance, dtype: int64"
            ]
          },
          "metadata": {
            "tags": []
          }
        },
        {
          "output_type": "stream",
          "text": [
            "# of new drivers to cover these distance : 13.0\n"
          ],
          "name": "stdout"
        }
      ]
    },
    {
      "cell_type": "code",
      "metadata": {
        "id": "o_zrOF9zRMNd",
        "colab_type": "code",
        "colab": {
          "base_uri": "https://localhost:8080/",
          "height": 102
        },
        "outputId": "f7bbf9cc-ac46-4e1f-a357-f9e7b38adb5a"
      },
      "source": [
        "display(driver_ride.groupby(['churned'])['ride_duration'].agg('sum'))\n",
        "\n",
        "duration_churned = driver_ride[driver_ride['churned']==1]['ride_duration'].agg('sum')\n",
        "avg_duration_by_driver = driver_ride['ride_duration'].sum()/driver_ride['driver_id'].nunique()\n",
        "\n",
        "print (\"# of new drivers to cover these duration:\", round(duration_churned/avg_duration_by_driver,0))"
      ],
      "execution_count": 69,
      "outputs": [
        {
          "output_type": "display_data",
          "data": {
            "text/plain": [
              "churned\n",
              "0    155790981\n",
              "1      2605234\n",
              "Name: ride_duration, dtype: int64"
            ]
          },
          "metadata": {
            "tags": []
          }
        },
        {
          "output_type": "stream",
          "text": [
            "# of new drivers to cover these duration: 14.0\n"
          ],
          "name": "stdout"
        }
      ]
    },
    {
      "cell_type": "markdown",
      "metadata": {
        "id": "j8_MPrpTTfTp",
        "colab_type": "text"
      },
      "source": [
        "The impact of churned drivers to the business is:\n",
        "1. These churned drivers lead to the ride distance deccreasing at 20B in distance, and 2M ride minutes in three month, which means the company has to enroll another 13 driver to cover it.\n",
        "2. The loss would cause understaffed in drivers, that woudl also cause low capacity to meet the demand on market which risking weakening competitiveness.\n",
        "3. Low capacity of riding would result in dissatisfaction of customers who will give a lower rate on the product.\n",
        "4. Disatisfied customer might give a lower rate on the other drivers who spend longer time to pick up, this would continuous lead to low performance and dissatisfaction of current drivers. "
      ]
    },
    {
      "cell_type": "markdown",
      "metadata": {
        "id": "evlt35NFjQRS",
        "colab_type": "text"
      },
      "source": [
        "## Factors to affect churn"
      ]
    },
    {
      "cell_type": "code",
      "metadata": {
        "id": "FK4xgaOAWqqa",
        "colab_type": "code",
        "colab": {
          "base_uri": "https://localhost:8080/",
          "height": 51
        },
        "outputId": "de19e728-7bcc-49de-d56b-f0883e2b163c"
      },
      "source": [
        "display (driver_ride[driver_ride['churned']==1]['ride_duration'].agg('mean'))\n",
        "display (driver_ride[driver_ride['churned']==0]['ride_duration'].agg('mean'))"
      ],
      "execution_count": 74,
      "outputs": [
        {
          "output_type": "display_data",
          "data": {
            "text/plain": [
              "821.5812046672974"
            ]
          },
          "metadata": {
            "tags": []
          }
        },
        {
          "output_type": "display_data",
          "data": {
            "text/plain": [
              "860.5429854505684"
            ]
          },
          "metadata": {
            "tags": []
          }
        }
      ]
    },
    {
      "cell_type": "code",
      "metadata": {
        "id": "E18ujSOqi406",
        "colab_type": "code",
        "colab": {
          "base_uri": "https://localhost:8080/",
          "height": 51
        },
        "outputId": "92f245d0-ac3f-40b7-89ed-7c3d75b5e105"
      },
      "source": [
        "display (driver_ride[driver_ride['churned']==1]['ride_distance'].agg('mean'))\n",
        "display (driver_ride[driver_ride['churned']==0]['ride_distance'].agg('mean'))"
      ],
      "execution_count": 75,
      "outputs": [
        {
          "output_type": "display_data",
          "data": {
            "text/plain": [
              "6429.883002207505"
            ]
          },
          "metadata": {
            "tags": []
          }
        },
        {
          "output_type": "display_data",
          "data": {
            "text/plain": [
              "6954.223107855809"
            ]
          },
          "metadata": {
            "tags": []
          }
        }
      ]
    },
    {
      "cell_type": "code",
      "metadata": {
        "id": "JmiJSf7GoHWg",
        "colab_type": "code",
        "colab": {
          "base_uri": "https://localhost:8080/",
          "height": 51
        },
        "outputId": "fef88ea7-95db-45ee-fa88-619fd4c5676a"
      },
      "source": [
        "display (driver_ride[driver_ride['churned']==1]['ride_prime_time'].agg('mean'))\n",
        "display (driver_ride[driver_ride['churned']==0]['ride_prime_time'].agg('mean'))"
      ],
      "execution_count": 79,
      "outputs": [
        {
          "output_type": "display_data",
          "data": {
            "text/plain": [
              "12.62220119836014"
            ]
          },
          "metadata": {
            "tags": []
          }
        },
        {
          "output_type": "display_data",
          "data": {
            "text/plain": [
              "17.457108452369116"
            ]
          },
          "metadata": {
            "tags": []
          }
        }
      ]
    },
    {
      "cell_type": "markdown",
      "metadata": {
        "id": "6Fm64SnSqvk0",
        "colab_type": "text"
      },
      "source": [
        "Among the factors of distance, duration and prime time, it's obvious to see that the prime time of these churned drivers are 40% lower than those not churned , while the ride duration and distance don't differ significantly."
      ]
    },
    {
      "cell_type": "code",
      "metadata": {
        "id": "mv6psHC9pI3F",
        "colab_type": "code",
        "colab": {}
      },
      "source": [
        "driver_ride['onboard_week'] = driver_ride['driver_onboard_date'].apply(lambda x: x.week)"
      ],
      "execution_count": 0,
      "outputs": []
    },
    {
      "cell_type": "code",
      "metadata": {
        "id": "TDdmq9kGp8nk",
        "colab_type": "code",
        "colab": {
          "base_uri": "https://localhost:8080/",
          "height": 335
        },
        "outputId": "7d1adad8-ab2f-4567-e76c-fb154264461c"
      },
      "source": [
        "ax = driver_ride.groupby(['churned','onboard_week']).size().plot(kind=\"bar\")\n",
        "ax.set_title(\"# of trasactions per month\")\n",
        "ax.set_xlabel(\"(month,isChurned)\")\n",
        "ax.set_ylabel(\"Count of transaction\")"
      ],
      "execution_count": 81,
      "outputs": [
        {
          "output_type": "execute_result",
          "data": {
            "text/plain": [
              "Text(0, 0.5, 'Count of transaction')"
            ]
          },
          "metadata": {
            "tags": []
          },
          "execution_count": 81
        },
        {
          "output_type": "display_data",
          "data": {
            "image/png": "[encoded data removed]",
            "text/plain": [
              "<Figure size 432x288 with 1 Axes>"
            ]
          },
          "metadata": {
            "tags": []
          }
        }
      ]
    },
    {
      "cell_type": "markdown",
      "metadata": {
        "id": "dBb6-faIrY7L",
        "colab_type": "text"
      },
      "source": [
        "It tells that these churned drives took on board in the week 13 , which should be dived into further."
      ]
    },
    {
      "cell_type": "code",
      "metadata": {
        "id": "469_rlhHqEbs",
        "colab_type": "code",
        "colab": {
          "base_uri": "https://localhost:8080/",
          "height": 51
        },
        "outputId": "843461c2-4857-4994-c516-a2eff3c14571"
      },
      "source": [
        "display (driver_ride[(driver_ride['churned']==1) & (driver_ride['onboard_week']==13)]['ride_duration'].agg('mean'))\n",
        "display (driver_ride[(driver_ride['churned']==0) & (driver_ride['onboard_week']==13)]['ride_duration'].agg('mean'))"
      ],
      "execution_count": 86,
      "outputs": [
        {
          "output_type": "display_data",
          "data": {
            "text/plain": [
              "821.5812046672974"
            ]
          },
          "metadata": {
            "tags": []
          }
        },
        {
          "output_type": "display_data",
          "data": {
            "text/plain": [
              "860.8261004580389"
            ]
          },
          "metadata": {
            "tags": []
          }
        }
      ]
    },
    {
      "cell_type": "code",
      "metadata": {
        "id": "3IRer--cqWyD",
        "colab_type": "code",
        "colab": {
          "base_uri": "https://localhost:8080/",
          "height": 51
        },
        "outputId": "57d0202f-d2d8-431a-ba92-73c5c748240f"
      },
      "source": [
        "display (driver_ride[(driver_ride['churned']==1) & (driver_ride['onboard_week']==13)]['ride_distance'].agg('mean'))\n",
        "display (driver_ride[(driver_ride['churned']==0) & (driver_ride['onboard_week']==13)]['ride_distance'].agg('mean'))"
      ],
      "execution_count": 87,
      "outputs": [
        {
          "output_type": "display_data",
          "data": {
            "text/plain": [
              "6429.883002207505"
            ]
          },
          "metadata": {
            "tags": []
          }
        },
        {
          "output_type": "display_data",
          "data": {
            "text/plain": [
              "7156.5687834795435"
            ]
          },
          "metadata": {
            "tags": []
          }
        }
      ]
    },
    {
      "cell_type": "code",
      "metadata": {
        "id": "W1ys2b7WscUP",
        "colab_type": "code",
        "colab": {
          "base_uri": "https://localhost:8080/",
          "height": 51
        },
        "outputId": "942e21cf-94b2-4747-8739-9aa72e4ad3d4"
      },
      "source": [
        "display (driver_ride[(driver_ride['churned']==1) & (driver_ride['onboard_week']==13)]['ride_prime_time'].agg('mean'))\n",
        "display (driver_ride[(driver_ride['churned']==0) & (driver_ride['onboard_week']==13)]['ride_prime_time'].agg('mean'))"
      ],
      "execution_count": 88,
      "outputs": [
        {
          "output_type": "display_data",
          "data": {
            "text/plain": [
              "12.62220119836014"
            ]
          },
          "metadata": {
            "tags": []
          }
        },
        {
          "output_type": "display_data",
          "data": {
            "text/plain": [
              "15.475312475739461"
            ]
          },
          "metadata": {
            "tags": []
          }
        }
      ]
    },
    {
      "cell_type": "markdown",
      "metadata": {
        "id": "jpxtqluIt4VB",
        "colab_type": "text"
      },
      "source": [
        "1. After diving into the distance, duration and prime time compared to the one in entire three months, we can see that the prime time for those churned drived keep the same till the end of June, while it's been increased from 15.5 t0 17.5 fro others.\n",
        "2. We also can conclude that prime time takes a large propartion on their income , otherwise they would not leave."
      ]
    },
    {
      "cell_type": "markdown",
      "metadata": {
        "id": "FUJb_MvSvNtN",
        "colab_type": "text"
      },
      "source": [
        " # **Hypotheses to Reduce Churn**"
      ]
    },
    {
      "cell_type": "code",
      "metadata": {
        "id": "1DIzhn4Fu3ly",
        "colab_type": "code",
        "colab": {
          "base_uri": "https://localhost:8080/",
          "height": 221
        },
        "outputId": "20b3c1ba-2a14-4202-c129-714670c89311"
      },
      "source": [
        "driver_ride[driver_ride['onboard_week']==13].driver_onboard_date"
      ],
      "execution_count": 89,
      "outputs": [
        {
          "output_type": "execute_result",
          "data": {
            "text/plain": [
              "0        2016-03-29\n",
              "1        2016-03-29\n",
              "2        2016-03-29\n",
              "3        2016-03-29\n",
              "4        2016-03-29\n",
              "            ...    \n",
              "183433   2016-03-28\n",
              "183434   2016-03-28\n",
              "183435   2016-03-28\n",
              "183436   2016-03-28\n",
              "183437   2016-03-28\n",
              "Name: driver_onboard_date, Length: 28933, dtype: datetime64[ns]"
            ]
          },
          "metadata": {
            "tags": []
          },
          "execution_count": 89
        }
      ]
    },
    {
      "cell_type": "code",
      "metadata": {
        "id": "GwW9AMpYwFSA",
        "colab_type": "code",
        "colab": {}
      },
      "source": [
        ""
      ],
      "execution_count": 0,
      "outputs": []
    }
  ]
}